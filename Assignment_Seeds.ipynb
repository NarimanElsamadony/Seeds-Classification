{
  "nbformat": 4,
  "nbformat_minor": 0,
  "metadata": {
    "colab": {
      "provenance": []
    },
    "kernelspec": {
      "name": "python3",
      "display_name": "Python 3"
    },
    "language_info": {
      "name": "python"
    }
  },
  "cells": [
    {
      "cell_type": "code",
      "source": [
        "import pandas as pd\n",
        "seeds_df = pd.read_csv('/content/drive/MyDrive/seeds_dataset.txt',delimiter='\\t', header = None)\n",
        "seeds_df.head()"
      ],
      "metadata": {
        "id": "dQepq1GBSukN",
        "colab": {
          "base_uri": "https://localhost:8080/",
          "height": 206
        },
        "outputId": "7e2347c5-e825-4780-ae5a-b7e8a5cd4ad9"
      },
      "execution_count": null,
      "outputs": [
        {
          "output_type": "execute_result",
          "data": {
            "text/plain": [
              "       0      1       2      3      4      5      6  7\n",
              "0  15.26  14.84  0.8710  5.763  3.312  2.221  5.220  1\n",
              "1  14.88  14.57  0.8811  5.554  3.333  1.018  4.956  1\n",
              "2  14.29  14.09  0.9050  5.291  3.337  2.699  4.825  1\n",
              "3  13.84  13.94  0.8955  5.324  3.379  2.259  4.805  1\n",
              "4  16.14  14.99  0.9034  5.658  3.562  1.355  5.175  1"
            ],
            "text/html": [
              "\n",
              "  <div id=\"df-0b3c0a97-aee5-4646-af11-de54a84c7c32\" class=\"colab-df-container\">\n",
              "    <div>\n",
              "<style scoped>\n",
              "    .dataframe tbody tr th:only-of-type {\n",
              "        vertical-align: middle;\n",
              "    }\n",
              "\n",
              "    .dataframe tbody tr th {\n",
              "        vertical-align: top;\n",
              "    }\n",
              "\n",
              "    .dataframe thead th {\n",
              "        text-align: right;\n",
              "    }\n",
              "</style>\n",
              "<table border=\"1\" class=\"dataframe\">\n",
              "  <thead>\n",
              "    <tr style=\"text-align: right;\">\n",
              "      <th></th>\n",
              "      <th>0</th>\n",
              "      <th>1</th>\n",
              "      <th>2</th>\n",
              "      <th>3</th>\n",
              "      <th>4</th>\n",
              "      <th>5</th>\n",
              "      <th>6</th>\n",
              "      <th>7</th>\n",
              "    </tr>\n",
              "  </thead>\n",
              "  <tbody>\n",
              "    <tr>\n",
              "      <th>0</th>\n",
              "      <td>15.26</td>\n",
              "      <td>14.84</td>\n",
              "      <td>0.8710</td>\n",
              "      <td>5.763</td>\n",
              "      <td>3.312</td>\n",
              "      <td>2.221</td>\n",
              "      <td>5.220</td>\n",
              "      <td>1</td>\n",
              "    </tr>\n",
              "    <tr>\n",
              "      <th>1</th>\n",
              "      <td>14.88</td>\n",
              "      <td>14.57</td>\n",
              "      <td>0.8811</td>\n",
              "      <td>5.554</td>\n",
              "      <td>3.333</td>\n",
              "      <td>1.018</td>\n",
              "      <td>4.956</td>\n",
              "      <td>1</td>\n",
              "    </tr>\n",
              "    <tr>\n",
              "      <th>2</th>\n",
              "      <td>14.29</td>\n",
              "      <td>14.09</td>\n",
              "      <td>0.9050</td>\n",
              "      <td>5.291</td>\n",
              "      <td>3.337</td>\n",
              "      <td>2.699</td>\n",
              "      <td>4.825</td>\n",
              "      <td>1</td>\n",
              "    </tr>\n",
              "    <tr>\n",
              "      <th>3</th>\n",
              "      <td>13.84</td>\n",
              "      <td>13.94</td>\n",
              "      <td>0.8955</td>\n",
              "      <td>5.324</td>\n",
              "      <td>3.379</td>\n",
              "      <td>2.259</td>\n",
              "      <td>4.805</td>\n",
              "      <td>1</td>\n",
              "    </tr>\n",
              "    <tr>\n",
              "      <th>4</th>\n",
              "      <td>16.14</td>\n",
              "      <td>14.99</td>\n",
              "      <td>0.9034</td>\n",
              "      <td>5.658</td>\n",
              "      <td>3.562</td>\n",
              "      <td>1.355</td>\n",
              "      <td>5.175</td>\n",
              "      <td>1</td>\n",
              "    </tr>\n",
              "  </tbody>\n",
              "</table>\n",
              "</div>\n",
              "    <div class=\"colab-df-buttons\">\n",
              "\n",
              "  <div class=\"colab-df-container\">\n",
              "    <button class=\"colab-df-convert\" onclick=\"convertToInteractive('df-0b3c0a97-aee5-4646-af11-de54a84c7c32')\"\n",
              "            title=\"Convert this dataframe to an interactive table.\"\n",
              "            style=\"display:none;\">\n",
              "\n",
              "  <svg xmlns=\"http://www.w3.org/2000/svg\" height=\"24px\" viewBox=\"0 -960 960 960\">\n",
              "    <path d=\"M120-120v-720h720v720H120Zm60-500h600v-160H180v160Zm220 220h160v-160H400v160Zm0 220h160v-160H400v160ZM180-400h160v-160H180v160Zm440 0h160v-160H620v160ZM180-180h160v-160H180v160Zm440 0h160v-160H620v160Z\"/>\n",
              "  </svg>\n",
              "    </button>\n",
              "\n",
              "  <style>\n",
              "    .colab-df-container {\n",
              "      display:flex;\n",
              "      gap: 12px;\n",
              "    }\n",
              "\n",
              "    .colab-df-convert {\n",
              "      background-color: #E8F0FE;\n",
              "      border: none;\n",
              "      border-radius: 50%;\n",
              "      cursor: pointer;\n",
              "      display: none;\n",
              "      fill: #1967D2;\n",
              "      height: 32px;\n",
              "      padding: 0 0 0 0;\n",
              "      width: 32px;\n",
              "    }\n",
              "\n",
              "    .colab-df-convert:hover {\n",
              "      background-color: #E2EBFA;\n",
              "      box-shadow: 0px 1px 2px rgba(60, 64, 67, 0.3), 0px 1px 3px 1px rgba(60, 64, 67, 0.15);\n",
              "      fill: #174EA6;\n",
              "    }\n",
              "\n",
              "    .colab-df-buttons div {\n",
              "      margin-bottom: 4px;\n",
              "    }\n",
              "\n",
              "    [theme=dark] .colab-df-convert {\n",
              "      background-color: #3B4455;\n",
              "      fill: #D2E3FC;\n",
              "    }\n",
              "\n",
              "    [theme=dark] .colab-df-convert:hover {\n",
              "      background-color: #434B5C;\n",
              "      box-shadow: 0px 1px 3px 1px rgba(0, 0, 0, 0.15);\n",
              "      filter: drop-shadow(0px 1px 2px rgba(0, 0, 0, 0.3));\n",
              "      fill: #FFFFFF;\n",
              "    }\n",
              "  </style>\n",
              "\n",
              "    <script>\n",
              "      const buttonEl =\n",
              "        document.querySelector('#df-0b3c0a97-aee5-4646-af11-de54a84c7c32 button.colab-df-convert');\n",
              "      buttonEl.style.display =\n",
              "        google.colab.kernel.accessAllowed ? 'block' : 'none';\n",
              "\n",
              "      async function convertToInteractive(key) {\n",
              "        const element = document.querySelector('#df-0b3c0a97-aee5-4646-af11-de54a84c7c32');\n",
              "        const dataTable =\n",
              "          await google.colab.kernel.invokeFunction('convertToInteractive',\n",
              "                                                    [key], {});\n",
              "        if (!dataTable) return;\n",
              "\n",
              "        const docLinkHtml = 'Like what you see? Visit the ' +\n",
              "          '<a target=\"_blank\" href=https://colab.research.google.com/notebooks/data_table.ipynb>data table notebook</a>'\n",
              "          + ' to learn more about interactive tables.';\n",
              "        element.innerHTML = '';\n",
              "        dataTable['output_type'] = 'display_data';\n",
              "        await google.colab.output.renderOutput(dataTable, element);\n",
              "        const docLink = document.createElement('div');\n",
              "        docLink.innerHTML = docLinkHtml;\n",
              "        element.appendChild(docLink);\n",
              "      }\n",
              "    </script>\n",
              "  </div>\n",
              "\n",
              "\n",
              "<div id=\"df-7a9e3ff4-ec17-4c6c-9e06-5a1014de6ddd\">\n",
              "  <button class=\"colab-df-quickchart\" onclick=\"quickchart('df-7a9e3ff4-ec17-4c6c-9e06-5a1014de6ddd')\"\n",
              "            title=\"Suggest charts\"\n",
              "            style=\"display:none;\">\n",
              "\n",
              "<svg xmlns=\"http://www.w3.org/2000/svg\" height=\"24px\"viewBox=\"0 0 24 24\"\n",
              "     width=\"24px\">\n",
              "    <g>\n",
              "        <path d=\"M19 3H5c-1.1 0-2 .9-2 2v14c0 1.1.9 2 2 2h14c1.1 0 2-.9 2-2V5c0-1.1-.9-2-2-2zM9 17H7v-7h2v7zm4 0h-2V7h2v10zm4 0h-2v-4h2v4z\"/>\n",
              "    </g>\n",
              "</svg>\n",
              "  </button>\n",
              "\n",
              "<style>\n",
              "  .colab-df-quickchart {\n",
              "      --bg-color: #E8F0FE;\n",
              "      --fill-color: #1967D2;\n",
              "      --hover-bg-color: #E2EBFA;\n",
              "      --hover-fill-color: #174EA6;\n",
              "      --disabled-fill-color: #AAA;\n",
              "      --disabled-bg-color: #DDD;\n",
              "  }\n",
              "\n",
              "  [theme=dark] .colab-df-quickchart {\n",
              "      --bg-color: #3B4455;\n",
              "      --fill-color: #D2E3FC;\n",
              "      --hover-bg-color: #434B5C;\n",
              "      --hover-fill-color: #FFFFFF;\n",
              "      --disabled-bg-color: #3B4455;\n",
              "      --disabled-fill-color: #666;\n",
              "  }\n",
              "\n",
              "  .colab-df-quickchart {\n",
              "    background-color: var(--bg-color);\n",
              "    border: none;\n",
              "    border-radius: 50%;\n",
              "    cursor: pointer;\n",
              "    display: none;\n",
              "    fill: var(--fill-color);\n",
              "    height: 32px;\n",
              "    padding: 0;\n",
              "    width: 32px;\n",
              "  }\n",
              "\n",
              "  .colab-df-quickchart:hover {\n",
              "    background-color: var(--hover-bg-color);\n",
              "    box-shadow: 0 1px 2px rgba(60, 64, 67, 0.3), 0 1px 3px 1px rgba(60, 64, 67, 0.15);\n",
              "    fill: var(--button-hover-fill-color);\n",
              "  }\n",
              "\n",
              "  .colab-df-quickchart-complete:disabled,\n",
              "  .colab-df-quickchart-complete:disabled:hover {\n",
              "    background-color: var(--disabled-bg-color);\n",
              "    fill: var(--disabled-fill-color);\n",
              "    box-shadow: none;\n",
              "  }\n",
              "\n",
              "  .colab-df-spinner {\n",
              "    border: 2px solid var(--fill-color);\n",
              "    border-color: transparent;\n",
              "    border-bottom-color: var(--fill-color);\n",
              "    animation:\n",
              "      spin 1s steps(1) infinite;\n",
              "  }\n",
              "\n",
              "  @keyframes spin {\n",
              "    0% {\n",
              "      border-color: transparent;\n",
              "      border-bottom-color: var(--fill-color);\n",
              "      border-left-color: var(--fill-color);\n",
              "    }\n",
              "    20% {\n",
              "      border-color: transparent;\n",
              "      border-left-color: var(--fill-color);\n",
              "      border-top-color: var(--fill-color);\n",
              "    }\n",
              "    30% {\n",
              "      border-color: transparent;\n",
              "      border-left-color: var(--fill-color);\n",
              "      border-top-color: var(--fill-color);\n",
              "      border-right-color: var(--fill-color);\n",
              "    }\n",
              "    40% {\n",
              "      border-color: transparent;\n",
              "      border-right-color: var(--fill-color);\n",
              "      border-top-color: var(--fill-color);\n",
              "    }\n",
              "    60% {\n",
              "      border-color: transparent;\n",
              "      border-right-color: var(--fill-color);\n",
              "    }\n",
              "    80% {\n",
              "      border-color: transparent;\n",
              "      border-right-color: var(--fill-color);\n",
              "      border-bottom-color: var(--fill-color);\n",
              "    }\n",
              "    90% {\n",
              "      border-color: transparent;\n",
              "      border-bottom-color: var(--fill-color);\n",
              "    }\n",
              "  }\n",
              "</style>\n",
              "\n",
              "  <script>\n",
              "    async function quickchart(key) {\n",
              "      const quickchartButtonEl =\n",
              "        document.querySelector('#' + key + ' button');\n",
              "      quickchartButtonEl.disabled = true;  // To prevent multiple clicks.\n",
              "      quickchartButtonEl.classList.add('colab-df-spinner');\n",
              "      try {\n",
              "        const charts = await google.colab.kernel.invokeFunction(\n",
              "            'suggestCharts', [key], {});\n",
              "      } catch (error) {\n",
              "        console.error('Error during call to suggestCharts:', error);\n",
              "      }\n",
              "      quickchartButtonEl.classList.remove('colab-df-spinner');\n",
              "      quickchartButtonEl.classList.add('colab-df-quickchart-complete');\n",
              "    }\n",
              "    (() => {\n",
              "      let quickchartButtonEl =\n",
              "        document.querySelector('#df-7a9e3ff4-ec17-4c6c-9e06-5a1014de6ddd button');\n",
              "      quickchartButtonEl.style.display =\n",
              "        google.colab.kernel.accessAllowed ? 'block' : 'none';\n",
              "    })();\n",
              "  </script>\n",
              "</div>\n",
              "    </div>\n",
              "  </div>\n"
            ],
            "application/vnd.google.colaboratory.intrinsic+json": {
              "type": "dataframe",
              "variable_name": "seeds_df",
              "summary": "{\n  \"name\": \"seeds_df\",\n  \"rows\": 210,\n  \"fields\": [\n    {\n      \"column\": 0,\n      \"properties\": {\n        \"dtype\": \"number\",\n        \"std\": 2.909699430687361,\n        \"min\": 10.59,\n        \"max\": 21.18,\n        \"num_unique_values\": 193,\n        \"samples\": [\n          14.86,\n          12.49,\n          16.53\n        ],\n        \"semantic_type\": \"\",\n        \"description\": \"\"\n      }\n    },\n    {\n      \"column\": 1,\n      \"properties\": {\n        \"dtype\": \"number\",\n        \"std\": 1.305958726564022,\n        \"min\": 12.41,\n        \"max\": 17.25,\n        \"num_unique_values\": 170,\n        \"samples\": [\n          13.45,\n          14.41,\n          13.92\n        ],\n        \"semantic_type\": \"\",\n        \"description\": \"\"\n      }\n    },\n    {\n      \"column\": 2,\n      \"properties\": {\n        \"dtype\": \"number\",\n        \"std\": 0.023629416583846496,\n        \"min\": 0.8081,\n        \"max\": 0.9183,\n        \"num_unique_values\": 186,\n        \"samples\": [\n          0.9064,\n          0.856,\n          0.8372\n        ],\n        \"semantic_type\": \"\",\n        \"description\": \"\"\n      }\n    },\n    {\n      \"column\": 3,\n      \"properties\": {\n        \"dtype\": \"number\",\n        \"std\": 0.4430634777264493,\n        \"min\": 4.899,\n        \"max\": 6.675,\n        \"num_unique_values\": 188,\n        \"samples\": [\n          5.183,\n          5.186,\n          5.205\n        ],\n        \"semantic_type\": \"\",\n        \"description\": \"\"\n      }\n    },\n    {\n      \"column\": 4,\n      \"properties\": {\n        \"dtype\": \"number\",\n        \"std\": 0.37771444490658734,\n        \"min\": 2.63,\n        \"max\": 4.033,\n        \"num_unique_values\": 184,\n        \"samples\": [\n          3.168,\n          3.393,\n          2.641\n        ],\n        \"semantic_type\": \"\",\n        \"description\": \"\"\n      }\n    },\n    {\n      \"column\": 5,\n      \"properties\": {\n        \"dtype\": \"number\",\n        \"std\": 1.5035571308217794,\n        \"min\": 0.7651,\n        \"max\": 8.456,\n        \"num_unique_values\": 207,\n        \"samples\": [\n          6.388,\n          4.185,\n          4.92\n        ],\n        \"semantic_type\": \"\",\n        \"description\": \"\"\n      }\n    },\n    {\n      \"column\": 6,\n      \"properties\": {\n        \"dtype\": \"number\",\n        \"std\": 0.4914804991024052,\n        \"min\": 4.519,\n        \"max\": 6.55,\n        \"num_unique_values\": 148,\n        \"samples\": [\n          5.308,\n          4.703,\n          4.957\n        ],\n        \"semantic_type\": \"\",\n        \"description\": \"\"\n      }\n    },\n    {\n      \"column\": 7,\n      \"properties\": {\n        \"dtype\": \"number\",\n        \"std\": 0,\n        \"min\": 1,\n        \"max\": 3,\n        \"num_unique_values\": 3,\n        \"samples\": [\n          1,\n          2,\n          3\n        ],\n        \"semantic_type\": \"\",\n        \"description\": \"\"\n      }\n    }\n  ]\n}"
            }
          },
          "metadata": {},
          "execution_count": 7
        }
      ]
    },
    {
      "cell_type": "markdown",
      "source": [
        "### Shuffle the dataset before splitting into training & testing ##"
      ],
      "metadata": {
        "id": "kd466CxZ7-ui"
      }
    },
    {
      "cell_type": "code",
      "source": [
        "## Shuffle the dataset with their corresponding labels##\n",
        "df_shuffle = seeds_df.sample(frac=1, random_state = 1)\n",
        "# frac indicates the % of the returned samples 1 means that all the items are returned after being sampled in a random order (i.e., shuffled)\n",
        "# random_state is set to ensure reproducibilty\n",
        "print(df_shuffle.head())\n",
        "## Split the dataset 80% training & 20% testing ##\n"
      ],
      "metadata": {
        "colab": {
          "base_uri": "https://localhost:8080/"
        },
        "id": "2xblqEfr2mkS",
        "outputId": "8bdd6ed9-e88e-4c13-bd4a-35cc8f2f2262"
      },
      "execution_count": null,
      "outputs": [
        {
          "output_type": "stream",
          "name": "stdout",
          "text": [
            "         0      1       2      3      4      5      6  7\n",
            "44   15.11  14.54  0.8986  5.579  3.462  3.128  5.180  1\n",
            "188  11.23  12.82  0.8594  5.089  2.821  7.524  4.957  3\n",
            "51   15.78  14.91  0.8923  5.674  3.434  5.593  5.136  1\n",
            "204  12.37  13.47  0.8567  5.204  2.960  3.919  5.001  3\n",
            "35   16.12  15.00  0.9000  5.709  3.485  2.270  5.443  1\n"
          ]
        }
      ]
    },
    {
      "cell_type": "markdown",
      "source": [
        "### Visualizing only on the first and fifth attributes according to their classes ###"
      ],
      "metadata": {
        "id": "j89ocRsJ2_E6"
      }
    },
    {
      "cell_type": "code",
      "source": [
        "ax2 = df_shuffle.plot.scatter(x=0, #x is the column name or column position to plot horizontally\n",
        "                      y=4,     # y is the column name or column poistion to plot vertically\n",
        "                      s=50, #s is the size of dots\n",
        "                      c=7, # A column name or positions whose values are going to color the marker points according to a color map\n",
        "                      colormap='viridis')"
      ],
      "metadata": {
        "colab": {
          "base_uri": "https://localhost:8080/",
          "height": 455
        },
        "id": "rlB8vw0l2-C8",
        "outputId": "64ac9de4-71f1-470f-c326-7f3933948c6d"
      },
      "execution_count": null,
      "outputs": [
        {
          "output_type": "display_data",
          "data": {
            "text/plain": [
              "<Figure size 640x480 with 2 Axes>"
            ],
            "image/png": "[encoded data removed]"
          },
          "metadata": {}
        }
      ]
    },
    {
      "cell_type": "markdown",
      "source": [
        "### Splitting the dataset into testing and training ###"
      ],
      "metadata": {
        "id": "V0qws5WK2zMy"
      }
    },
    {
      "cell_type": "code",
      "source": [
        "from sklearn.model_selection import train_test_split\n",
        "# train_test_split splits the data into random train and test subsets\n",
        "train, test = train_test_split(df_shuffle, test_size = 0.2, random_state = 3)\n",
        "# random state is set to ensure reproducibility\n",
        "print(train.head())\n",
        "print(test.head())"
      ],
      "metadata": {
        "colab": {
          "base_uri": "https://localhost:8080/"
        },
        "id": "vop01WaQ24YL",
        "outputId": "e290ac49-8065-4e24-ac73-06d4161313e6"
      },
      "execution_count": null,
      "outputs": [
        {
          "output_type": "stream",
          "name": "stdout",
          "text": [
            "         0      1       2      3      4      5      6  7\n",
            "87   18.98  16.66  0.8590  6.549  3.670  3.691  6.498  2\n",
            "209  12.30  13.34  0.8684  5.243  2.974  5.637  5.063  3\n",
            "161  12.02  13.33  0.8503  5.350  2.810  4.271  5.308  3\n",
            "43   15.50  14.86  0.8820  5.877  3.396  4.711  5.528  1\n",
            "155  11.19  13.05  0.8253  5.250  2.675  5.813  5.219  3\n",
            "         0      1       2      3      4      5      6  7\n",
            "3    13.84  13.94  0.8955  5.324  3.379  2.259  4.805  1\n",
            "93   18.59  16.05  0.9066  6.037  3.860  6.001  5.877  2\n",
            "159  11.49  13.22  0.8263  5.304  2.695  5.388  5.310  3\n",
            "131  18.94  16.32  0.8942  6.144  3.825  2.908  5.949  2\n",
            "77   20.71  17.23  0.8763  6.579  3.814  4.451  6.451  2\n"
          ]
        }
      ]
    },
    {
      "cell_type": "code",
      "source": [
        "X_train = train[[0, 4]]\n",
        "y_train = train[[7]]\n",
        "X_test = test[[0,4]]\n",
        "y_test = test[[7]]\n",
        "print(X_train.head())\n",
        "print(y_train.head())\n",
        "print(X_test.head())\n",
        "print(y_test.head())"
      ],
      "metadata": {
        "colab": {
          "base_uri": "https://localhost:8080/"
        },
        "id": "jUsz61qbiQxh",
        "outputId": "a2fd060d-7a91-4626-d3a4-e8c30c6d4061"
      },
      "execution_count": null,
      "outputs": [
        {
          "output_type": "stream",
          "name": "stdout",
          "text": [
            "         0      4\n",
            "87   18.98  3.670\n",
            "209  12.30  2.974\n",
            "161  12.02  2.810\n",
            "43   15.50  3.396\n",
            "155  11.19  2.675\n",
            "     7\n",
            "87   2\n",
            "209  3\n",
            "161  3\n",
            "43   1\n",
            "155  3\n",
            "         0      4\n",
            "3    13.84  3.379\n",
            "93   18.59  3.860\n",
            "159  11.49  2.695\n",
            "131  18.94  3.825\n",
            "77   20.71  3.814\n",
            "     7\n",
            "3    1\n",
            "93   2\n",
            "159  3\n",
            "131  2\n",
            "77   2\n"
          ]
        }
      ]
    },
    {
      "cell_type": "code",
      "source": [
        "seeds2 = seeds_df[seeds_df[7] != 1]\n",
        "print(seeds2.head())"
      ],
      "metadata": {
        "colab": {
          "base_uri": "https://localhost:8080/"
        },
        "id": "t5hQ-d65Xmbo",
        "outputId": "97913ccc-3cd8-48ff-f5e6-760611177222"
      },
      "execution_count": null,
      "outputs": [
        {
          "output_type": "stream",
          "name": "stdout",
          "text": [
            "        0      1       2      3      4      5      6  7\n",
            "70  17.63  15.98  0.8673  6.191  3.561  4.076  6.060  2\n",
            "71  16.84  15.67  0.8623  5.998  3.484  4.675  5.877  2\n",
            "72  17.26  15.73  0.8763  5.978  3.594  4.539  5.791  2\n",
            "73  19.11  16.26  0.9081  6.154  3.930  2.936  6.079  2\n",
            "74  16.82  15.51  0.8786  6.017  3.486  4.004  5.841  2\n"
          ]
        }
      ]
    },
    {
      "cell_type": "markdown",
      "source": [
        "### Shuffle the two-class dataset only ###"
      ],
      "metadata": {
        "id": "3v-w7h0U9mXa"
      }
    },
    {
      "cell_type": "code",
      "source": [
        "## Shuffle the dataset with their corresponding labels##\n",
        "seeds2_shuffle = seeds2.sample(frac=1).reset_index(drop = True)\n",
        "## Split the dataset 80% training & 20% testing ##\n",
        "from sklearn.model_selection import train_test_split\n",
        "train2, test2 = train_test_split(seeds2_shuffle, test_size = 0.2)\n",
        "print(train2.head())\n",
        "print(test2.head())"
      ],
      "metadata": {
        "id": "Ida4eq0gpmLz",
        "colab": {
          "base_uri": "https://localhost:8080/"
        },
        "outputId": "2e271e17-051b-41a3-c370-947915086b41"
      },
      "execution_count": null,
      "outputs": [
        {
          "output_type": "stream",
          "name": "stdout",
          "text": [
            "         0      1       2      3      4      5      6  7\n",
            "46   20.24  16.91  0.8897  6.315  3.962  5.901  6.188  2\n",
            "38   11.18  12.72  0.8680  5.009  2.810  4.051  4.828  3\n",
            "123  18.98  16.66  0.8590  6.549  3.670  3.691  6.498  2\n",
            "125  11.14  12.79  0.8558  5.011  2.794  6.388  5.049  3\n",
            "99   11.83  13.23  0.8496  5.263  2.840  5.195  5.307  3\n",
            "         0      1       2      3      4      5      6  7\n",
            "6    17.63  15.86  0.8800  6.033  3.573  3.747  5.929  2\n",
            "116  15.56  14.89  0.8823  5.776  3.408  4.972  5.847  2\n",
            "135  15.99  14.89  0.9064  5.363  3.582  3.336  5.144  2\n",
            "83   11.75  13.52  0.8082  5.444  2.678  4.378  5.310  3\n",
            "23   12.62  13.67  0.8481  5.410  2.911  3.306  5.231  3\n"
          ]
        }
      ]
    },
    {
      "cell_type": "markdown",
      "source": [
        "### Visualizing the two-class dataset ###"
      ],
      "metadata": {
        "id": "CL2EnUTc_bpb"
      }
    },
    {
      "cell_type": "code",
      "source": [
        "ax2 = seeds2_shuffle.plot.scatter(x=0, #x is the column name or column position to plot horizontally\n",
        "                      y=4,     # y is the column name or column poistion to plot vertically\n",
        "                      s=50, #s is the size of dots\n",
        "                      c=7, # A column name or positions whose values are going to color the marker points according to a color map\n",
        "                      colormap='viridis')"
      ],
      "metadata": {
        "colab": {
          "base_uri": "https://localhost:8080/",
          "height": 455
        },
        "id": "XtutBHO0_foL",
        "outputId": "df3e0289-a6c1-421e-b365-db11041dba6c"
      },
      "execution_count": null,
      "outputs": [
        {
          "output_type": "display_data",
          "data": {
            "text/plain": [
              "<Figure size 640x480 with 2 Axes>"
            ],
            "image/png": "[encoded data removed]"
          },
          "metadata": {}
        }
      ]
    },
    {
      "cell_type": "code",
      "source": [
        "X2_train = train2[[0,4]]\n",
        "X2_test = test2[[0,4]]\n",
        "y2_train = train2[[7]]\n",
        "y2_test = test2[[7]]\n",
        "print(X2_train.head())\n",
        "print(y2_train.head())\n",
        "print(X2_test.head())\n",
        "print(y2_test.head())"
      ],
      "metadata": {
        "colab": {
          "base_uri": "https://localhost:8080/"
        },
        "id": "q2n4JTPJZ1Hg",
        "outputId": "b7f4150f-d61f-409f-a447-5be7427407e3"
      },
      "execution_count": null,
      "outputs": [
        {
          "output_type": "stream",
          "name": "stdout",
          "text": [
            "         0      4\n",
            "76   11.75  2.678\n",
            "97   11.26  2.710\n",
            "124  18.98  3.552\n",
            "11   11.49  2.695\n",
            "91   12.70  2.911\n",
            "     7\n",
            "76   3\n",
            "97   3\n",
            "124  2\n",
            "11   3\n",
            "91   3\n",
            "         0      4\n",
            "41   12.19  2.981\n",
            "84   16.77  3.438\n",
            "19   18.75  3.869\n",
            "7    18.85  3.806\n",
            "103  17.63  3.573\n",
            "     7\n",
            "41   3\n",
            "84   2\n",
            "19   2\n",
            "7    2\n",
            "103  2\n"
          ]
        }
      ]
    },
    {
      "cell_type": "markdown",
      "source": [
        "## Perceptron Classifier ##"
      ],
      "metadata": {
        "id": "DWo3W8RpEcfz"
      }
    },
    {
      "cell_type": "code",
      "source": [
        "## Perceptron Classifier ##\n",
        "from sklearn.linear_model import Perceptron\n",
        "clf_per = Perceptron()\n",
        "y2_train_ravel = y2_train.values.ravel()\n",
        "clf_per.fit(X2_train, y2_train_ravel)\n",
        "## Ravel returns the flattened underlying data as an ndarray or ExtensionArray ##\n",
        "y2_test_ravel = y2_test.values.ravel()\n",
        "### Score returns the mean accuracy on the given test data and labels ###\n",
        "score = clf_per.score(X2_test, y2_test_ravel)\n",
        "print('The accuracy of the perceptron after dropping the first class ', score)"
      ],
      "metadata": {
        "colab": {
          "base_uri": "https://localhost:8080/"
        },
        "id": "mgwDRM8abpKQ",
        "outputId": "75ac40d1-008f-43e9-c9ac-c24aacf8899f"
      },
      "execution_count": null,
      "outputs": [
        {
          "output_type": "stream",
          "name": "stdout",
          "text": [
            "The accuracy of the perceptron after dropping the first class  1.0\n"
          ]
        }
      ]
    },
    {
      "cell_type": "markdown",
      "source": [
        "### Plotting the confusion matrix for the perceptron classifier ###"
      ],
      "metadata": {
        "id": "zDaqGzDsEorL"
      }
    },
    {
      "cell_type": "code",
      "source": [
        "import matplotlib.pyplot as plt\n",
        "from sklearn.metrics import confusion_matrix, ConfusionMatrixDisplay\n",
        "predictions_per = clf_per.predict(X2_test)\n",
        "print(predictions_per)\n",
        "cm = confusion_matrix(y2_test, predictions_per)\n",
        "disp = ConfusionMatrixDisplay(confusion_matrix = cm)\n",
        "disp.plot()\n",
        "plt.show()"
      ],
      "metadata": {
        "colab": {
          "base_uri": "https://localhost:8080/",
          "height": 466
        },
        "id": "Belg8kCREvDb",
        "outputId": "8c4be623-1d24-4edd-c317-783483c96b6e"
      },
      "execution_count": null,
      "outputs": [
        {
          "output_type": "stream",
          "name": "stdout",
          "text": [
            "[3 2 2 2 2 2 3 3 2 2 3 2 3 2 3 3 2 3 2 3 3 2 2 2 3 2 2 2]\n"
          ]
        },
        {
          "output_type": "display_data",
          "data": {
            "text/plain": [
              "<Figure size 640x480 with 2 Axes>"
            ],
            "image/png": "[encoded data removed]"
          },
          "metadata": {}
        }
      ]
    },
    {
      "cell_type": "markdown",
      "source": [
        "## SVM Classifier ##"
      ],
      "metadata": {
        "id": "l9CJOF9wEZYs"
      }
    },
    {
      "cell_type": "code",
      "source": [
        "## SVM Classifier ##\n",
        "from sklearn.svm import SVC\n",
        "clf_svm = SVC()\n",
        "clf_svm.fit(X2_train, y2_train_ravel)\n",
        "score_svm = clf_svm.score(X2_test, y2_test_ravel)\n",
        "print('The accuracy of the SVM after dropping the first class is ', score_svm)"
      ],
      "metadata": {
        "colab": {
          "base_uri": "https://localhost:8080/"
        },
        "id": "v_-nmrxbgG8y",
        "outputId": "c0c6afe3-2148-4bb2-eaed-8981a7ca5e6a"
      },
      "execution_count": null,
      "outputs": [
        {
          "output_type": "stream",
          "name": "stdout",
          "text": [
            "The accuracy of the SVM after dropping the first class is  1.0\n"
          ]
        }
      ]
    },
    {
      "cell_type": "markdown",
      "source": [
        "### Plotting the confusion matrix of the SVM ###"
      ],
      "metadata": {
        "id": "Qg5-tCx6E_Wr"
      }
    },
    {
      "cell_type": "code",
      "source": [
        "import matplotlib.pyplot as plt\n",
        "from sklearn.metrics import confusion_matrix, ConfusionMatrixDisplay\n",
        "predictions_svm = clf_svm.predict(X2_test)\n",
        "print(predictions_svm)\n",
        "cm = confusion_matrix(y2_test, predictions_svm)\n",
        "disp = ConfusionMatrixDisplay(confusion_matrix = cm)\n",
        "disp.plot()\n",
        "plt.show()"
      ],
      "metadata": {
        "colab": {
          "base_uri": "https://localhost:8080/",
          "height": 466
        },
        "id": "CSvnR-06FEJT",
        "outputId": "46e2e15c-a9d1-4fdc-ce19-78623aab05e7"
      },
      "execution_count": null,
      "outputs": [
        {
          "output_type": "stream",
          "name": "stdout",
          "text": [
            "[3 2 2 2 2 2 3 3 2 2 3 2 3 2 3 3 2 3 2 3 3 2 2 2 3 2 2 2]\n"
          ]
        },
        {
          "output_type": "display_data",
          "data": {
            "text/plain": [
              "<Figure size 640x480 with 2 Axes>"
            ],
            "image/png": "[encoded data removed]"
          },
          "metadata": {}
        }
      ]
    }
  ]
}